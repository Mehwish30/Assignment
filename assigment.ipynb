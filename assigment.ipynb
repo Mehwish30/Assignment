{
 "cells": [
  {
   "cell_type": "code",
   "execution_count": 1,
   "metadata": {},
   "outputs": [
    {
     "ename": "SyntaxError",
     "evalue": "EOL while scanning string literal (<ipython-input-1-594516da430c>, line 47)",
     "output_type": "error",
     "traceback": [
      "\u001b[1;36m  File \u001b[1;32m\"<ipython-input-1-594516da430c>\"\u001b[1;36m, line \u001b[1;32m47\u001b[0m\n\u001b[1;33m    \"\"\"\"\u001b[0m\n\u001b[1;37m        \n^\u001b[0m\n\u001b[1;31mSyntaxError\u001b[0m\u001b[1;31m:\u001b[0m EOL while scanning string literal\n"
     ]
    }
   ],
   "source": [
    "\"\"\"\"\n",
    "strings predefined function\n",
    "capitlize()=\"converts the first character to uppercase\"\n",
    "casefold()=Converts string into lower case\n",
    "center()=Returns a centered string\n",
    "count()=Returns the number of times a specified value occurs in a string\n",
    "encode() =Returns an encoded version of the string\n",
    "endswith()=Returns true if the string ends with the specified value\n",
    "expandtabs()=Sets the tab size of the string\n",
    "find() =Searches the string for a specified value and returns the position of where it was found\n",
    "format()   =Formats specified values in a string\n",
    "format_map()= Formats specified values in a string\n",
    "index()\tSearches the string for a specified value and returns the position of where it was found\n",
    "isalnum()=Returns True if all characters in the string are alphanumeric\n",
    "isalpha()=Returns True if all characters in the string are in the alphabet\n",
    "isdecimal()=Returns True if all characters in the string are decimals\n",
    "isdigit()=Returns True if all characters in the string are digits\n",
    "isidentifier()=Returns True if the string is an identifier\n",
    "islower()=Returns True if all characters in the string are lower case\n",
    "isnumeric()=Returns True if all characters in the string are numeric\n",
    "isprintable()=Returns True if all characters in the string are printable\n",
    "isspace()=Returns True if all characters in the string are whitespaces\n",
    "istitle()=Returns True if the string follows the rules of a title\n",
    "isupper()=Returns True if all characters in the string are upper case\n",
    "join()=Joins the elements of an iterable to the end of the string\n",
    "ljust()=Returns a left justified version of the string\n",
    "lower()=Converts a string into lower case\n",
    "lstrip()=Returns a left trim version of the string\n",
    "maketrans()=Returns a translation table to be used in translations\n",
    "partition()=Returns a tuple where the string is parted into three parts\n",
    "replace()=Returns a string where a specified value is replaced with a specified value\n",
    "rfind()=Searches the string for a specified value and returns the last position of where it was found\n",
    "rindex()=Searches the string for a specified value and returns the last position of where it was found\n",
    "rjust()=Returns a right justified version of the string\n",
    "rpartition()=Returns a tuple where the string is parted into three parts\n",
    "rsplit()=Splits the string at the specified separator, and returns a list\n",
    "rstrip()=Returns a right trim version of the string\n",
    "split()=Splits the string at the specified separator, and returns a list\n",
    "splitlines()=Splits the string at line breaks and returns a list\n",
    "startswith()=Returns true if the string starts with the specified value\n",
    "strip()=Returns a trimmed version of the string\n",
    "swapcase()=Swaps cases, lower case becomes upper case and vice versa\n",
    "title()=Converts the first character of each word to upper case\n",
    "translate()=Returns a translated string\n",
    "upper()=Converts a string into upper case\n",
    "zfill()=Fills the string with a specified number of 0 values at the beginning\n",
    "\"\"\"\"\n",
    "\n",
    "\n",
    "\n",
    "txt=\"hello word\"\n",
    "x=txt.capitalize();\n",
    "print(x);"
   ]
  },
  {
   "cell_type": "code",
   "execution_count": 2,
   "metadata": {},
   "outputs": [
    {
     "name": "stdout",
     "output_type": "stream",
     "text": [
      "Hello word\n"
     ]
    }
   ],
   "source": [
    "\n",
    "txt=\"hello word\";\n",
    "x=txt.capitalize();\n",
    "print(x);"
   ]
  },
  {
   "cell_type": "code",
   "execution_count": 33,
   "metadata": {},
   "outputs": [
    {
     "name": "stdout",
     "output_type": "stream",
     "text": [
      "hello word\n"
     ]
    }
   ],
   "source": [
    "\n",
    "txt=\"hello word\"\n",
    "x=txt.casefold();\n",
    "print(x);"
   ]
  },
  {
   "cell_type": "code",
   "execution_count": 4,
   "metadata": {},
   "outputs": [
    {
     "name": "stdout",
     "output_type": "stream",
     "text": [
      "        hello123        \n"
     ]
    }
   ],
   "source": [
    "\n",
    "txt=\"hello123\"\n",
    "x=txt.center(24);\n",
    "print(x);"
   ]
  },
  {
   "cell_type": "code",
   "execution_count": 5,
   "metadata": {},
   "outputs": [
    {
     "name": "stdout",
     "output_type": "stream",
     "text": [
      "1\n"
     ]
    }
   ],
   "source": [
    "txt=\"hello are you there\"\n",
    "x=txt.count(\"are\");\n",
    "print(x);"
   ]
  },
  {
   "cell_type": "code",
   "execution_count": 6,
   "metadata": {},
   "outputs": [
    {
     "name": "stdout",
     "output_type": "stream",
     "text": [
      "b'hello123'\n"
     ]
    }
   ],
   "source": [
    "txt=\"hello123\"\n",
    "x=txt.encode();\n",
    "print(x);"
   ]
  },
  {
   "cell_type": "code",
   "execution_count": 7,
   "metadata": {},
   "outputs": [
    {
     "name": "stdout",
     "output_type": "stream",
     "text": [
      "True\n"
     ]
    }
   ],
   "source": [
    "txt=\"hello123.\"\n",
    "x=txt.endswith(\".\");\n",
    "print(x);"
   ]
  },
  {
   "cell_type": "code",
   "execution_count": 8,
   "metadata": {},
   "outputs": [
    {
     "name": "stdout",
     "output_type": "stream",
     "text": [
      "H  e  l  l  o  1\n"
     ]
    }
   ],
   "source": [
    "txt = \"H\\te\\tl\\tl\\to\\t1\"\n",
    "x =  txt.expandtabs(3)\n",
    "print(x)\n"
   ]
  },
  {
   "cell_type": "code",
   "execution_count": 9,
   "metadata": {},
   "outputs": [
    {
     "name": "stdout",
     "output_type": "stream",
     "text": [
      "6\n"
     ]
    }
   ],
   "source": [
    "txt = \"Hello word.\"\n",
    "x = txt.find(\"word\")\n",
    "print(x);"
   ]
  },
  {
   "cell_type": "code",
   "execution_count": 10,
   "metadata": {},
   "outputs": [
    {
     "name": "stdout",
     "output_type": "stream",
     "text": [
      "6\n"
     ]
    }
   ],
   "source": [
    "txt = \"Hello word.\"\n",
    "x = txt.index(\"word\")\n",
    "print(x);"
   ]
  },
  {
   "cell_type": "code",
   "execution_count": 11,
   "metadata": {},
   "outputs": [
    {
     "name": "stdout",
     "output_type": "stream",
     "text": [
      "True\n"
     ]
    }
   ],
   "source": [
    "txt = \"hello12\"\n",
    "x = txt.isalnum()\n",
    "print(x)\n"
   ]
  },
  {
   "cell_type": "code",
   "execution_count": 12,
   "metadata": {},
   "outputs": [
    {
     "name": "stdout",
     "output_type": "stream",
     "text": [
      "False\n"
     ]
    }
   ],
   "source": [
    "txt = \"hello12\"\n",
    "x = txt.isalpha()\n",
    "print(x)\n"
   ]
  },
  {
   "cell_type": "code",
   "execution_count": 14,
   "metadata": {},
   "outputs": [
    {
     "name": "stdout",
     "output_type": "stream",
     "text": [
      "False\n"
     ]
    }
   ],
   "source": [
    "txt = \"hello12\"\n",
    "x = txt.isdecimal()\n",
    "print(x)\n"
   ]
  },
  {
   "cell_type": "code",
   "execution_count": 15,
   "metadata": {},
   "outputs": [
    {
     "name": "stdout",
     "output_type": "stream",
     "text": [
      "True\n"
     ]
    }
   ],
   "source": [
    "txt = \"50800\"\n",
    "\n",
    "x = txt.isdigit()\n",
    "\n",
    "print(x)\n"
   ]
  },
  {
   "cell_type": "code",
   "execution_count": 16,
   "metadata": {},
   "outputs": [
    {
     "name": "stdout",
     "output_type": "stream",
     "text": [
      "True\n"
     ]
    }
   ],
   "source": [
    "txt = \"helloo\"\n",
    "x = txt.isidentifier()\n",
    "\n",
    "print(x)\n"
   ]
  },
  {
   "cell_type": "code",
   "execution_count": 17,
   "metadata": {},
   "outputs": [
    {
     "name": "stdout",
     "output_type": "stream",
     "text": [
      "True\n"
     ]
    }
   ],
   "source": [
    "txt = \"hello world!\"\n",
    "\n",
    "x = txt.islower()\n",
    "\n",
    "print(x)\n"
   ]
  },
  {
   "cell_type": "code",
   "execution_count": 18,
   "metadata": {},
   "outputs": [
    {
     "name": "stdout",
     "output_type": "stream",
     "text": [
      "True\n"
     ]
    }
   ],
   "source": [
    "txt = \"565543\"\n",
    "\n",
    "x = txt.isnumeric()\n",
    "\n",
    "print(x)\n"
   ]
  },
  {
   "cell_type": "code",
   "execution_count": 19,
   "metadata": {},
   "outputs": [
    {
     "name": "stdout",
     "output_type": "stream",
     "text": [
      "True\n"
     ]
    }
   ],
   "source": [
    "txt = \"Hello!\"\n",
    "\n",
    "x = txt.isprintable()\n",
    "\n",
    "print(x)\n"
   ]
  },
  {
   "cell_type": "code",
   "execution_count": 20,
   "metadata": {},
   "outputs": [
    {
     "name": "stdout",
     "output_type": "stream",
     "text": [
      "True\n"
     ]
    }
   ],
   "source": [
    "txt = \"   \"\n",
    "\n",
    "x = txt.isspace()\n",
    "\n",
    "print(x)\n"
   ]
  },
  {
   "cell_type": "code",
   "execution_count": 21,
   "metadata": {},
   "outputs": [
    {
     "name": "stdout",
     "output_type": "stream",
     "text": [
      "True\n"
     ]
    }
   ],
   "source": [
    "txt = \"Hello, And Welcome To My World!\"\n",
    "\n",
    "x = txt.istitle()\n",
    "\n",
    "print(x)\n"
   ]
  },
  {
   "cell_type": "code",
   "execution_count": 22,
   "metadata": {},
   "outputs": [
    {
     "name": "stdout",
     "output_type": "stream",
     "text": [
      "False\n"
     ]
    }
   ],
   "source": [
    "txt = \"hello!\"\n",
    "\n",
    "x = txt.isupper()\n",
    "\n",
    "print(x)\n"
   ]
  },
  {
   "cell_type": "code",
   "execution_count": 23,
   "metadata": {},
   "outputs": [
    {
     "name": "stdout",
     "output_type": "stream",
     "text": [
      "hello#Pell#Vicky\n"
     ]
    }
   ],
   "source": [
    "txt = (\"hello\", \"Pell\", \"Vicky\")\n",
    "\n",
    "x = \"#\".join(txt)\n",
    "\n",
    "print(x)\n"
   ]
  },
  {
   "cell_type": "code",
   "execution_count": 24,
   "metadata": {},
   "outputs": [
    {
     "name": "stdout",
     "output_type": "stream",
     "text": [
      "hello                word.\n"
     ]
    }
   ],
   "source": [
    "txt = \"hello\"\n",
    "\n",
    "x = txt.ljust(20)\n",
    "\n",
    "print(x, \"word.\")\n"
   ]
  },
  {
   "cell_type": "code",
   "execution_count": 25,
   "metadata": {},
   "outputs": [
    {
     "name": "stdout",
     "output_type": "stream",
     "text": [
      "hello\n"
     ]
    }
   ],
   "source": [
    "txt = \"Hello\"\n",
    "\n",
    "x = txt.lower()\n",
    "\n",
    "print(x)\n"
   ]
  },
  {
   "cell_type": "code",
   "execution_count": 26,
   "metadata": {},
   "outputs": [
    {
     "name": "stdout",
     "output_type": "stream",
     "text": [
      "of all fruits banana      is my favorite\n"
     ]
    }
   ],
   "source": [
    "txt = \"     banana     \"\n",
    "\n",
    "x = txt.lstrip()\n",
    "\n",
    "print(\"of all fruits\", x, \"is my favorite\")\n"
   ]
  },
  {
   "cell_type": "code",
   "execution_count": 27,
   "metadata": {},
   "outputs": [
    {
     "name": "stdout",
     "output_type": "stream",
     "text": [
      "('hello ', 'word', ' michel')\n"
     ]
    }
   ],
   "source": [
    "txt = \"hello word michel\"\n",
    "\n",
    "x = txt.partition(\"word\")\n",
    "\n",
    "print(x)\n"
   ]
  },
  {
   "cell_type": "code",
   "execution_count": 28,
   "metadata": {},
   "outputs": [
    {
     "name": "stdout",
     "output_type": "stream",
     "text": [
      "I like orange\n"
     ]
    }
   ],
   "source": [
    "txt = \"I like orange\"\n",
    "\n",
    "x = txt.replace(\"oranges\", \"apples\")\n",
    "\n",
    "print(x)\n"
   ]
  },
  {
   "cell_type": "code",
   "execution_count": 29,
   "metadata": {},
   "outputs": [
    {
     "name": "stdout",
     "output_type": "stream",
     "text": [
      "6\n"
     ]
    }
   ],
   "source": [
    "txt = \"hello word\"\n",
    "\n",
    "x = txt.rfind(\"word\")\n",
    "\n",
    "print(x)\n"
   ]
  },
  {
   "cell_type": "code",
   "execution_count": 30,
   "metadata": {},
   "outputs": [
    {
     "name": "stdout",
     "output_type": "stream",
     "text": [
      "                        banana is my favorite fruit.\n"
     ]
    }
   ],
   "source": [
    "txt = \"banana\"\n",
    "\n",
    "x = txt.rjust(30)\n",
    "\n",
    "print(x, \"is my favorite fruit.\")\n"
   ]
  },
  {
   "cell_type": "code",
   "execution_count": 32,
   "metadata": {},
   "outputs": [
    {
     "name": "stdout",
     "output_type": "stream",
     "text": [
      "('I hope so u are good ', 'hope', 'so')\n"
     ]
    }
   ],
   "source": [
    "txt = \"I hope so u are good hopeso\"\n",
    "\n",
    "x = txt.rpartition(\"hope\")\n",
    "\n",
    "print(x)\n"
   ]
  },
  {
   "cell_type": "code",
   "execution_count": null,
   "metadata": {},
   "outputs": [],
   "source": []
  }
 ],
 "metadata": {
  "kernelspec": {
   "display_name": "Python 3",
   "language": "python",
   "name": "python3"
  },
  "language_info": {
   "codemirror_mode": {
    "name": "ipython",
    "version": 3
   },
   "file_extension": ".py",
   "mimetype": "text/x-python",
   "name": "python",
   "nbconvert_exporter": "python",
   "pygments_lexer": "ipython3",
   "version": "3.7.4"
  }
 },
 "nbformat": 4,
 "nbformat_minor": 2
}
